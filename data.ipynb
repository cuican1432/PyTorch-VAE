{
 "cells": [
  {
   "cell_type": "code",
   "execution_count": 1,
   "metadata": {},
   "outputs": [],
   "source": [
    "from torch.utils.data.dataset import Dataset\n",
    "import numpy as np \n",
    "from numpy.fft import rfft2, irfft2, fftfreq, rfftfreq\n",
    "\n",
    "np.random.seed(42)"
   ]
  },
  {
   "cell_type": "code",
   "execution_count": 2,
   "metadata": {},
   "outputs": [
    {
     "data": {
      "text/plain": [
       "array([[0.1755 , 0.06681, 0.7737 , 0.8849 , 0.6641 ],\n",
       "       [0.2139 , 0.05557, 0.8599 , 0.9785 , 0.8619 ],\n",
       "       [0.1867 , 0.04503, 0.6189 , 0.8307 , 0.7187 ],\n",
       "       ...,\n",
       "       [0.1611 , 0.03709, 0.8161 , 1.0743 , 0.9983 ],\n",
       "       [0.4017 , 0.04425, 0.8509 , 0.8251 , 0.7833 ],\n",
       "       [0.2953 , 0.04701, 0.8017 , 0.8193 , 0.6627 ]])"
      ]
     },
     "execution_count": 2,
     "metadata": {},
     "output_type": "execute_result"
    }
   ],
   "source": [
    "import numpy as np\n",
    "import glob\n",
    "latin_hp_params = np.loadtxt('../universe_vae/latin_hypercube_params.txt')\n",
    "latin_hp_params"
   ]
  },
  {
   "cell_type": "code",
   "execution_count": 6,
   "metadata": {},
   "outputs": [],
   "source": [
    "ind_dict = {0:'X', 1:'Y', 2:'Z'}\n",
    "total_train_list = []\n",
    "total_test_list = []\n",
    "total_val_list = []\n",
    "total_outside_list = []\n",
    "np.random.seed(32)\n",
    "\n",
    "folder_list = np.random.choice(range(2000), 1800, replace=False)\n",
    "outside_folder_list = [i for i in range(2000) if i not in folder_list]\n",
    "\n",
    "\n",
    "for f in folder_list:\n",
    "    np.random.seed(f)\n",
    "    train_list = np.random.choice(range(51), 33, replace=False)\n",
    "    val_list = [i for i in range(51) if i not in train_list]\n",
    "    val_list = np.random.choice(val_list, 11, replace=False)\n",
    "    test_list = [i for i in range(51) if i not in train_list and i not in val_list]\n",
    "    cosmo = latin_hp_params[f]\n",
    "    \n",
    "    for pos in train_list:\n",
    "        for s in range(3):\n",
    "            np.random.seed(s)\n",
    "            ind1, ind2 = np.random.choice(range(3), 2, replace=False)\n",
    "            data1 = f'dataset/raw/latin_hypercube/{f}/image_{pos}_{ind_dict[ind1]}_z=0.npy'\n",
    "            data2 = f'dataset/raw/latin_hypercube/{f}/image_{pos}_{ind_dict[ind2]}_z=0.npy'\n",
    "            total_train_list += [{'phase': data1, 'cosmo': data2, 'simulation': f, 'cosmo pharameter': cosmo }]\n",
    "        \n",
    "    for pos in val_list:\n",
    "        for s in range(3):\n",
    "            np.random.seed(s)\n",
    "            ind1, ind2 = np.random.choice(range(3), 2, replace=False)\n",
    "            data1 = f'dataset/raw/latin_hypercube/{f}/image_{pos}_{ind_dict[ind1]}_z=0.npy'\n",
    "            data2 = f'dataset/raw/latin_hypercube/{f}/image_{pos}_{ind_dict[ind2]}_z=0.npy'\n",
    "            total_val_list += [{'phase': data1, 'cosmo': data2, 'simulation': f, 'cosmo pharameter': cosmo }]\n",
    "        \n",
    "    for pos in test_list:\n",
    "        for s in range(3):\n",
    "            np.random.seed(s)\n",
    "            ind1, ind2 = np.random.choice(range(3), 2, replace=False)\n",
    "            data1 = f'dataset/raw/latin_hypercube/{f}/image_{pos}_{ind_dict[ind1]}_z=0.npy'\n",
    "            data2 = f'dataset/raw/latin_hypercube/{f}/image_{pos}_{ind_dict[ind2]}_z=0.npy'\n",
    "            total_test_list += [{'phase': data1, 'cosmo': data2, 'simulation': f, 'cosmo pharameter': cosmo }]\n",
    "        \n",
    "        \n",
    "        \n",
    "for f in outside_folder_list:\n",
    "    for pos in range(51):\n",
    "        for s in range(3):\n",
    "            np.random.seed(s)\n",
    "            ind1, ind2 = np.random.choice(range(3), 2, replace=False)\n",
    "            data1 = f'dataset/raw/latin_hypercube/{f}/image_{pos}_{ind_dict[ind1]}_z=0.npy'\n",
    "            data2 = f'dataset/raw/latin_hypercube/{f}/image_{pos}_{ind_dict[ind2]}_z=0.npy'\n",
    "            total_outside_list += [{'phase': data1, 'cosmo': data2, 'simulation': f, 'cosmo pharameter': cosmo }]"
   ]
  },
  {
   "cell_type": "code",
   "execution_count": null,
   "metadata": {},
   "outputs": [],
   "source": [
    "import torch\n",
    "torch.save(total_train_list, 'dataset/processed/train_list.pkl')\n",
    "torch.save(total_val_list, 'dataset/processed/val_list.pkl')\n",
    "torch.save(total_test_list, 'dataset/processed/test_list.pkl')\n",
    "torch.save(total_outside_list, 'dataset/processed/heldout_list.pkl')"
   ]
  },
  {
   "cell_type": "code",
   "execution_count": null,
   "metadata": {},
   "outputs": [],
   "source": [
    "data = np.load(total_train_list[0]['phase'])"
   ]
  }
 ],
 "metadata": {
  "kernelspec": {
   "display_name": "stygan",
   "language": "python",
   "name": "stygan"
  },
  "language_info": {
   "codemirror_mode": {
    "name": "ipython",
    "version": 3
   },
   "file_extension": ".py",
   "mimetype": "text/x-python",
   "name": "python",
   "nbconvert_exporter": "python",
   "pygments_lexer": "ipython3",
   "version": "3.7.9"
  }
 },
 "nbformat": 4,
 "nbformat_minor": 4
}
