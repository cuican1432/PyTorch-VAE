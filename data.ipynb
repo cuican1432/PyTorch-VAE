{
 "cells": [
  {
   "cell_type": "code",
   "execution_count": 9,
   "metadata": {},
   "outputs": [],
   "source": [
    "from torch.utils.data.dataset import Dataset\n",
    "import numpy as np \n",
    "from numpy.fft import rfft2, irfft2, fftfreq, rfftfreq\n",
    "\n",
    "np.random.seed(42)"
   ]
  },
  {
   "cell_type": "code",
   "execution_count": 10,
   "metadata": {},
   "outputs": [
    {
     "data": {
      "text/plain": [
       "array([[0.1755 , 0.06681, 0.7737 , 0.8849 , 0.6641 ],\n",
       "       [0.2139 , 0.05557, 0.8599 , 0.9785 , 0.8619 ],\n",
       "       [0.1867 , 0.04503, 0.6189 , 0.8307 , 0.7187 ],\n",
       "       ...,\n",
       "       [0.1611 , 0.03709, 0.8161 , 1.0743 , 0.9983 ],\n",
       "       [0.4017 , 0.04425, 0.8509 , 0.8251 , 0.7833 ],\n",
       "       [0.2953 , 0.04701, 0.8017 , 0.8193 , 0.6627 ]])"
      ]
     },
     "execution_count": 10,
     "metadata": {},
     "output_type": "execute_result"
    }
   ],
   "source": [
    "import numpy as np\n",
    "import glob\n",
    "latin_hp_params = np.loadtxt('../universe_vae/latin_hypercube_params.txt')\n",
    "latin_hp_params"
   ]
  },
  {
   "cell_type": "code",
   "execution_count": 18,
   "metadata": {},
   "outputs": [],
   "source": [
    "ind_dict = {0:'X', 1:'Y', 2:'Z'}\n",
    "total_train_list = []\n",
    "total_test_list = []\n",
    "total_val_list = []\n",
    "total_outside_list = []\n",
    "np.random.seed(32)\n",
    "\n",
    "folder_list = np.random.choice(range(2000), 1800, replace=False)\n",
    "outside_folder_list = [i for i in range(2000) if i not in folder_list]\n",
    "\n",
    "\n",
    "for f in folder_list:\n",
    "    np.random.seed(f)\n",
    "    train_list = np.random.choice(range(51), 33, replace=False)\n",
    "    val_list = [i for i in range(51) if i not in train_list]\n",
    "    val_list = np.random.choice(val_list, 11, replace=False)\n",
    "    test_list = [i for i in range(51) if i not in train_list and i not in val_list]\n",
    "    cosmo = latin_hp_params[f]\n",
    "    \n",
    "    for pos in train_list:\n",
    "        data1 = glob.glob(f'/mnt/home/ecui/ceph/style_generation/dataset/raw/latin_hypercube/{f}/image_{pos}_*_z=0.npy')\n",
    "        total_train_list += [{'data': d, 'simulation': f, 'cosmo pharameter': cosmo } for d in data1]\n",
    "        \n",
    "    for pos in val_list:\n",
    "        data1 = glob.glob(f'/mnt/home/ecui/ceph/style_generation/dataset/raw/latin_hypercube/{f}/image_{pos}_*_z=0.npy')\n",
    "        total_val_list += [{'data': d, 'simulation': f, 'cosmo pharameter': cosmo } for d in data1]\n",
    "        \n",
    "    for pos in test_list:\n",
    "        data1 = glob.glob(f'/mnt/home/ecui/ceph/style_generation/dataset/raw/latin_hypercube/{f}/image_{pos}_*_z=0.npy')\n",
    "        total_test_list += [{'data': d, 'simulation': f, 'cosmo pharameter': cosmo } for d in data1]\n",
    "        \n",
    "        \n",
    "        \n",
    "for f in outside_folder_list:\n",
    "    for pos in range(51):\n",
    "        data1 = glob.glob(f'/mnt/home/ecui/ceph/style_generation/dataset/raw/latin_hypercube/{f}/image_{pos}_*_z=0.npy')\n",
    "        total_outside_list += [{'data': d, 'simulation': f, 'cosmo pharameter': cosmo } for d in data1]"
   ]
  },
  {
   "cell_type": "code",
   "execution_count": 26,
   "metadata": {},
   "outputs": [],
   "source": [
    "import torch\n",
    "torch.save(total_train_list, '/mnt/home/ecui/ceph/vae_learning/dataset/train_list.pkl')\n",
    "torch.save(total_val_list, '/mnt/home/ecui/ceph/vae_learning/dataset/val_list.pkl')\n",
    "torch.save(total_test_list, '/mnt/home/ecui/ceph/vae_learning/dataset/test_list.pkl')\n",
    "torch.save(total_outside_list, '/mnt/home/ecui/ceph/vae_learning/dataset/heldout_list.pkl')"
   ]
  },
  {
   "cell_type": "code",
   "execution_count": 25,
   "metadata": {},
   "outputs": [
    {
     "name": "stdout",
     "output_type": "stream",
     "text": [
      "train_list.pkl\n"
     ]
    }
   ],
   "source": [
    "ls dataset"
   ]
  },
  {
   "cell_type": "code",
   "execution_count": null,
   "metadata": {},
   "outputs": [],
   "source": [
    "data = np.load(total_train_list[0]['phase'])"
   ]
  },
  {
   "cell_type": "code",
   "execution_count": null,
   "metadata": {},
   "outputs": [],
   "source": []
  },
  {
   "cell_type": "code",
   "execution_count": null,
   "metadata": {},
   "outputs": [],
   "source": []
  },
  {
   "cell_type": "code",
   "execution_count": null,
   "metadata": {},
   "outputs": [],
   "source": []
  },
  {
   "cell_type": "code",
   "execution_count": null,
   "metadata": {},
   "outputs": [],
   "source": [
    "class DemoDataset(Dataset):\n",
    "    def __init__(self):\n",
    "        pass\n",
    "\n",
    "    def  __getitem__(self,idx):\n",
    "        img = 1#np.zeros((1,3,640,640))\n",
    "        return img\n",
    "    \n",
    "    def __len__(self):\n",
    "        return 10000\n",
    "\n",
    "\n",
    "if __name__ == '__main__':\n",
    "    import time\n",
    "    train_data = DemoDataset()\n",
    "    train_loader = DataLoader(dataset=train_data, batch_size=1, num_workers=0)\n",
    "    start_run = time.time()\n",
    "    for e in range(10):\n",
    "        for i, img in enumerate(train_loader):\n",
    "            if i == 0:\n",
    "                print('epoch: {} start time: {}'.format(e,time.time()-start_run))\n"
   ]
  },
  {
   "cell_type": "code",
   "execution_count": null,
   "metadata": {},
   "outputs": [],
   "source": [
    "Example code:\n",
    "\n",
    "def load_func(line):\n",
    "    # a line in 'list.txt\"\n",
    "\n",
    "    # Implement how you load a single piece of data here\n",
    "\n",
    "    # assuming you already load data into src and target respectively\n",
    "    return {'src': src, 'target': target} # you can return a tuple or whatever you want it to\n",
    "\n",
    "def batchify(batch):\n",
    "    # batch will contain a list of {'src', 'target'}, or how you return it in load_func.\n",
    "\n",
    "    # Implement method to batch the list above into Tensor here\n",
    "\n",
    "    # assuming you already have two tensor containing batched Tensor for src and target\n",
    "    return {'src': batch_src, 'target': batch_target} # you can return a tuple or whatever you want it to\n",
    "\n",
    "\n",
    "dataset = ListDataset('list.txt', load_func) #list.txt contain list of datafiles, one per line\n",
    "dataset = DataLoader(dataset=dataset, batch_size=50, num_workers=8, collate_fn=batchify) #This will load data when needed, in parallel, up to <num_workers> thread.\n",
    "\n",
    "for x in dataset: #iterate dataset\n",
    "    print(x)"
   ]
  },
  {
   "cell_type": "code",
   "execution_count": 1,
   "metadata": {},
   "outputs": [],
   "source": [
    "import torch"
   ]
  },
  {
   "cell_type": "code",
   "execution_count": 119,
   "metadata": {},
   "outputs": [
    {
     "data": {
      "text/plain": [
       "torch.Size([5])"
      ]
     },
     "execution_count": 119,
     "metadata": {},
     "output_type": "execute_result"
    }
   ],
   "source": [
    "data = torch.randn(512, 512)\n",
    "label  = torch.randn(5, )\n",
    "label.shape"
   ]
  },
  {
   "cell_type": "code",
   "execution_count": 118,
   "metadata": {},
   "outputs": [
    {
     "data": {
      "text/plain": [
       "tensor([[-1.7909, -0.2473,  1.1110, -0.9965,  0.2415],\n",
       "        [-1.7909, -0.2473,  1.1110, -0.9965,  0.2415],\n",
       "        [-1.7909, -0.2473,  1.1110, -0.9965,  0.2415],\n",
       "        [-1.7909, -0.2473,  1.1110, -0.9965,  0.2415],\n",
       "        [-1.7909, -0.2473,  1.1110, -0.9965,  0.2415],\n",
       "        [-1.7909, -0.2473,  1.1110, -0.9965,  0.2415],\n",
       "        [-1.7909, -0.2473,  1.1110, -0.9965,  0.2415],\n",
       "        [-1.7909, -0.2473,  1.1110, -0.9965,  0.2415],\n",
       "        [-1.7909, -0.2473,  1.1110, -0.9965,  0.2415],\n",
       "        [-1.7909, -0.2473,  1.1110, -0.9965,  0.2415],\n",
       "        [-1.7909, -0.2473,  1.1110, -0.9965,  0.2415],\n",
       "        [-1.7909, -0.2473,  1.1110, -0.9965,  0.2415],\n",
       "        [-1.7909, -0.2473,  1.1110, -0.9965,  0.2415],\n",
       "        [-1.7909, -0.2473,  1.1110, -0.9965,  0.2415],\n",
       "        [-1.7909, -0.2473,  1.1110, -0.9965,  0.2415],\n",
       "        [-1.7909, -0.2473,  1.1110, -0.9965,  0.2415],\n",
       "        [-1.7909, -0.2473,  1.1110, -0.9965,  0.2415],\n",
       "        [-1.7909, -0.2473,  1.1110, -0.9965,  0.2415],\n",
       "        [-1.7909, -0.2473,  1.1110, -0.9965,  0.2415],\n",
       "        [-1.7909, -0.2473,  1.1110, -0.9965,  0.2415],\n",
       "        [-1.7909, -0.2473,  1.1110, -0.9965,  0.2415],\n",
       "        [-1.7909, -0.2473,  1.1110, -0.9965,  0.2415],\n",
       "        [-1.7909, -0.2473,  1.1110, -0.9965,  0.2415],\n",
       "        [-1.7909, -0.2473,  1.1110, -0.9965,  0.2415],\n",
       "        [-1.7909, -0.2473,  1.1110, -0.9965,  0.2415],\n",
       "        [-1.7909, -0.2473,  1.1110, -0.9965,  0.2415],\n",
       "        [-1.7909, -0.2473,  1.1110, -0.9965,  0.2415],\n",
       "        [-1.7909, -0.2473,  1.1110, -0.9965,  0.2415],\n",
       "        [-1.7909, -0.2473,  1.1110, -0.9965,  0.2415],\n",
       "        [-1.7909, -0.2473,  1.1110, -0.9965,  0.2415],\n",
       "        [-1.7909, -0.2473,  1.1110, -0.9965,  0.2415],\n",
       "        [-1.7909, -0.2473,  1.1110, -0.9965,  0.2415],\n",
       "        [-1.7909, -0.2473,  1.1110, -0.9965,  0.2415],\n",
       "        [-1.7909, -0.2473,  1.1110, -0.9965,  0.2415],\n",
       "        [-1.7909, -0.2473,  1.1110, -0.9965,  0.2415],\n",
       "        [-1.7909, -0.2473,  1.1110, -0.9965,  0.2415],\n",
       "        [-1.7909, -0.2473,  1.1110, -0.9965,  0.2415],\n",
       "        [-1.7909, -0.2473,  1.1110, -0.9965,  0.2415],\n",
       "        [-1.7909, -0.2473,  1.1110, -0.9965,  0.2415],\n",
       "        [-1.7909, -0.2473,  1.1110, -0.9965,  0.2415],\n",
       "        [-1.7909, -0.2473,  1.1110, -0.9965,  0.2415],\n",
       "        [-1.7909, -0.2473,  1.1110, -0.9965,  0.2415],\n",
       "        [-1.7909, -0.2473,  1.1110, -0.9965,  0.2415],\n",
       "        [-1.7909, -0.2473,  1.1110, -0.9965,  0.2415],\n",
       "        [-1.7909, -0.2473,  1.1110, -0.9965,  0.2415],\n",
       "        [-1.7909, -0.2473,  1.1110, -0.9965,  0.2415],\n",
       "        [-1.7909, -0.2473,  1.1110, -0.9965,  0.2415],\n",
       "        [-1.7909, -0.2473,  1.1110, -0.9965,  0.2415],\n",
       "        [-1.7909, -0.2473,  1.1110, -0.9965,  0.2415],\n",
       "        [-1.7909, -0.2473,  1.1110, -0.9965,  0.2415],\n",
       "        [-1.7909, -0.2473,  1.1110, -0.9965,  0.2415],\n",
       "        [-1.7909, -0.2473,  1.1110, -0.9965,  0.2415],\n",
       "        [-1.7909, -0.2473,  1.1110, -0.9965,  0.2415],\n",
       "        [-1.7909, -0.2473,  1.1110, -0.9965,  0.2415],\n",
       "        [-1.7909, -0.2473,  1.1110, -0.9965,  0.2415],\n",
       "        [-1.7909, -0.2473,  1.1110, -0.9965,  0.2415],\n",
       "        [-1.7909, -0.2473,  1.1110, -0.9965,  0.2415],\n",
       "        [-1.7909, -0.2473,  1.1110, -0.9965,  0.2415],\n",
       "        [-1.7909, -0.2473,  1.1110, -0.9965,  0.2415],\n",
       "        [-1.7909, -0.2473,  1.1110, -0.9965,  0.2415],\n",
       "        [-1.7909, -0.2473,  1.1110, -0.9965,  0.2415],\n",
       "        [-1.7909, -0.2473,  1.1110, -0.9965,  0.2415],\n",
       "        [-1.7909, -0.2473,  1.1110, -0.9965,  0.2415],\n",
       "        [-1.7909, -0.2473,  1.1110, -0.9965,  0.2415]])"
      ]
     },
     "execution_count": 118,
     "metadata": {},
     "output_type": "execute_result"
    }
   ],
   "source": [
    "label.repeat(64, 1)"
   ]
  },
  {
   "cell_type": "code",
   "execution_count": 108,
   "metadata": {},
   "outputs": [],
   "source": [
    "def get_chunk(data_list, labels):\n",
    "    res = []\n",
    "    res_labels = []\n",
    "    for j in range(len(data_list)):\n",
    "        list_ = [c.chunk(8, dim=1) for c in data_list[j].chunk(8, dim=0)]\n",
    "        for item in list_:\n",
    "            res += [a.reshape(-1, 64, 64) for a in item]\n",
    "        res_labels += [labels[j].repeat(8*8, 1)]\n",
    "    return torch.cat(res, axis=0).unsqueeze(1), torch.cat(res_labels, axis=0)"
   ]
  },
  {
   "cell_type": "code",
   "execution_count": 109,
   "metadata": {},
   "outputs": [
    {
     "data": {
      "text/plain": [
       "torch.Size([192, 5])"
      ]
     },
     "execution_count": 109,
     "metadata": {},
     "output_type": "execute_result"
    }
   ],
   "source": [
    "get_chunk([data, data, data], [label, label, label])[1].shape"
   ]
  },
  {
   "cell_type": "code",
   "execution_count": 110,
   "metadata": {},
   "outputs": [],
   "source": [
    "def batchify(batch):\n",
    "    data, label = default_collate(batch)\n",
    "    return data.reshape(-1, 1, 64, 64), label.reshape(-1, 5)"
   ]
  },
  {
   "cell_type": "code",
   "execution_count": 111,
   "metadata": {},
   "outputs": [],
   "source": [
    "from torch.utils.data import Dataset, DataLoader\n",
    "from torch.utils.data.dataloader import default_collate\n",
    "\n",
    "class DemoDataset(Dataset):\n",
    "    def __init__(self):\n",
    "        pass\n",
    "\n",
    "    def  __getitem__(self,idx):\n",
    "        img = torch.randn(512, 512)\n",
    "        label = torch.randn(5,)\n",
    "        data = get_chunk([img, img], [label, label])\n",
    "        return data\n",
    "    \n",
    "    def __len__(self):\n",
    "        return 100\n"
   ]
  },
  {
   "cell_type": "code",
   "execution_count": 112,
   "metadata": {},
   "outputs": [],
   "source": [
    "train_data = DemoDataset()\n",
    "train_loader = DataLoader(dataset=train_data, batch_size=3, collate_fn=batchify, drop_last=True, pin_memory=True)"
   ]
  },
  {
   "cell_type": "code",
   "execution_count": 116,
   "metadata": {},
   "outputs": [
    {
     "name": "stdout",
     "output_type": "stream",
     "text": [
      "torch.Size([384, 1, 64, 64]) torch.Size([384, 5])\n",
      "torch.Size([384, 1, 64, 64]) torch.Size([384, 5])\n",
      "torch.Size([384, 1, 64, 64]) torch.Size([384, 5])\n",
      "torch.Size([384, 1, 64, 64]) torch.Size([384, 5])\n",
      "torch.Size([384, 1, 64, 64]) torch.Size([384, 5])\n",
      "torch.Size([384, 1, 64, 64]) torch.Size([384, 5])\n",
      "torch.Size([384, 1, 64, 64]) torch.Size([384, 5])\n",
      "torch.Size([384, 1, 64, 64]) torch.Size([384, 5])\n",
      "torch.Size([384, 1, 64, 64]) torch.Size([384, 5])\n",
      "torch.Size([384, 1, 64, 64]) torch.Size([384, 5])\n",
      "torch.Size([384, 1, 64, 64]) torch.Size([384, 5])\n",
      "torch.Size([384, 1, 64, 64]) torch.Size([384, 5])\n",
      "torch.Size([384, 1, 64, 64]) torch.Size([384, 5])\n",
      "torch.Size([384, 1, 64, 64]) torch.Size([384, 5])\n",
      "torch.Size([384, 1, 64, 64]) torch.Size([384, 5])\n",
      "torch.Size([384, 1, 64, 64]) torch.Size([384, 5])\n",
      "torch.Size([384, 1, 64, 64]) torch.Size([384, 5])\n",
      "torch.Size([384, 1, 64, 64]) torch.Size([384, 5])\n",
      "torch.Size([384, 1, 64, 64]) torch.Size([384, 5])\n",
      "torch.Size([384, 1, 64, 64]) torch.Size([384, 5])\n",
      "torch.Size([384, 1, 64, 64]) torch.Size([384, 5])\n",
      "torch.Size([384, 1, 64, 64]) torch.Size([384, 5])\n",
      "torch.Size([384, 1, 64, 64]) torch.Size([384, 5])\n",
      "torch.Size([384, 1, 64, 64]) torch.Size([384, 5])\n",
      "torch.Size([384, 1, 64, 64]) torch.Size([384, 5])\n",
      "torch.Size([384, 1, 64, 64]) torch.Size([384, 5])\n",
      "torch.Size([384, 1, 64, 64]) torch.Size([384, 5])\n",
      "torch.Size([384, 1, 64, 64]) torch.Size([384, 5])\n",
      "torch.Size([384, 1, 64, 64]) torch.Size([384, 5])\n",
      "torch.Size([384, 1, 64, 64]) torch.Size([384, 5])\n",
      "torch.Size([384, 1, 64, 64]) torch.Size([384, 5])\n",
      "torch.Size([384, 1, 64, 64]) torch.Size([384, 5])\n",
      "torch.Size([384, 1, 64, 64]) torch.Size([384, 5])\n"
     ]
    }
   ],
   "source": [
    "for data, label in train_loader:\n",
    "    print(data.shape, label.shape)"
   ]
  },
  {
   "cell_type": "code",
   "execution_count": null,
   "metadata": {},
   "outputs": [],
   "source": []
  }
 ],
 "metadata": {
  "kernelspec": {
   "display_name": "stygan",
   "language": "python",
   "name": "stygan"
  },
  "language_info": {
   "codemirror_mode": {
    "name": "ipython",
    "version": 3
   },
   "file_extension": ".py",
   "mimetype": "text/x-python",
   "name": "python",
   "nbconvert_exporter": "python",
   "pygments_lexer": "ipython3",
   "version": "3.7.9"
  }
 },
 "nbformat": 4,
 "nbformat_minor": 4
}
